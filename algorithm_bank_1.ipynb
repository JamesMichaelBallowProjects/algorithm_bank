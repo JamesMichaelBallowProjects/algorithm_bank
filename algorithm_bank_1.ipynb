{
 "cells": [
  {
   "cell_type": "code",
   "execution_count": 82,
   "metadata": {},
   "outputs": [
    {
     "name": "stdout",
     "output_type": "stream",
     "text": [
      "17\n"
     ]
    }
   ],
   "source": [
    "# Algorithm for recurive path finding\n",
    "class Solution(object):\n",
    "    def getMinPathCost(self, cur):\n",
    "        # base cases\n",
    "        if cur[0] == self.m-1 and cur[1] == self.n-1:\n",
    "            return self.grid[cur[0]][cur[1]]\n",
    "        elif cur[0] > self.m-1 or cur[1] > self.n-1:\n",
    "            return None\n",
    "\n",
    "        # recursive cases\n",
    "        d = self.getMinPathCost(cur=[cur[0]+1, cur[1]])\n",
    "        r = self.getMinPathCost(cur=[cur[0], cur[1]+1])\n",
    "\n",
    "        gCur = self.grid[cur[0]][cur[1]]\n",
    "        if d and r:\n",
    "            return min(gCur+d, gCur+r)\n",
    "        elif d:\n",
    "            return gCur + d\n",
    "        elif r:\n",
    "            return gCur + r\n",
    "        else:\n",
    "            return gCur\n",
    "\n",
    "    def minPathSum(self, grid):\n",
    "        \"\"\"\n",
    "        :type grid: List[List[int]]\n",
    "        :rtype: int\n",
    "        \"\"\"\n",
    "        self.grid = grid\n",
    "        self.m = len(grid)\n",
    "        self.n = len(grid[0])\n",
    "        return self.getMinPathCost([0,0])\n",
    "\n",
    "\n",
    "a = Solution()\n",
    "print(a.minPathSum([[1,1,1],[2,4,5],[5,7,9]]))\n"
   ]
  },
  {
   "cell_type": "code",
   "execution_count": null,
   "metadata": {},
   "outputs": [],
   "source": []
  }
 ],
 "metadata": {
  "kernelspec": {
   "display_name": ".venv",
   "language": "python",
   "name": "python3"
  },
  "language_info": {
   "codemirror_mode": {
    "name": "ipython",
    "version": 3
   },
   "file_extension": ".py",
   "mimetype": "text/x-python",
   "name": "python",
   "nbconvert_exporter": "python",
   "pygments_lexer": "ipython3",
   "version": "3.7.8"
  },
  "orig_nbformat": 4
 },
 "nbformat": 4,
 "nbformat_minor": 2
}
